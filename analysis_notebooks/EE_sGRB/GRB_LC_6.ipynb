{
 "cells": [
  {
   "cell_type": "code",
   "execution_count": 4,
   "metadata": {},
   "outputs": [],
   "source": [
    "import numpy as np\n",
    "import swift_scrape\n",
    "import os\n",
    "import matplotlib.pyplot as plt\n",
    "from matplotlib import ticker\n",
    "import lmfit as lm\n",
    "import scipy as sp\n",
    "import corner\n",
    "import emcee\n",
    "import math\n",
    "import pandas as pd\n",
    "from lc_lmfit import *"
   ]
  },
  {
   "cell_type": "code",
   "execution_count": 5,
   "metadata": {},
   "outputs": [],
   "source": [
    "folder='afterglow_data/'\n",
    "filename='_xray_flux.txt'\n",
    "GRBs=[\"050724\",\"060614\",\"070714B\",\"150424A\",\"211211A\",\"211227A\",\"061210\",\"071227\"]"
   ]
  },
  {
   "cell_type": "markdown",
   "metadata": {},
   "source": [
    "### Extracting and Plotting Curves\n"
   ]
  },
  {
   "cell_type": "code",
   "execution_count": null,
   "metadata": {},
   "outputs": [],
   "source": [
    "\n",
    "fig=plt.figure(figsize=(8.0,8.0), dpi=100)\n",
    "fig.patch.set_facecolor('white')\n",
    "plt.subplots_adjust(top=0.96, bottom=0.07, left=0.07, right=0.97, hspace=0.6,wspace=0.7)\n",
    "\n",
    "for i in range(len(GRBs)):\n",
    "    ax1 = fig.add_subplot(3, 3, i+1)\n",
    "    Time,Time_high,Time_low,Flux,Flux_high,Flux_low=get_individual_curves_log(folder+GRBs[i]+filename)\n",
    "    ax1.errorbar(Time,Flux,xerr=[Time_low,Time_high],yerr=[Flux_low,Flux_high],fmt='.',color='royalblue',linewidth=2.0,markersize=4.0)\n",
    "    plt.gca().set_xscale(\"log\")\n",
    "    plt.gca().set_yscale(\"log\")\n",
    "    #ax1.set_xlim(1e1,1e5)\n",
    "    #ax1.set_ylim(1e-14,1e-9)\n",
    "    ax1.set_xlabel('$\\mathrm{Time(s)}$',fontsize=14.)\n",
    "    ax1.set_ylabel('$\\mathrm{Flux}$',fontsize=14.)\n",
    "    ax1.set_title(\"GRB\"+GRBs[i],fontsize=10)\n",
    "\n",
    "#xticks = ticker.LogLocator(numticks=4)\n",
    "#ax1.xaxis.set_minor_locator(xticks)\n",
    "#ax1.tick_params(axis='x', which='minor', labelsize=7.0)\n",
    "\n",
    "plt.show()"
   ]
  },
  {
   "cell_type": "markdown",
   "metadata": {},
   "source": [
    "### GRB i=6"
   ]
  },
  {
   "cell_type": "code",
   "execution_count": 6,
   "metadata": {},
   "outputs": [
    {
     "name": "stderr",
     "output_type": "stream",
     "text": [
      "No artists with labels found to put in legend.  Note that artists whose label start with an underscore are ignored when legend() is called with no argument.\n"
     ]
    },
    {
     "data": {
      "image/png": "[encoded data removed]",
      "text/plain": [
       "<Figure size 500x500 with 1 Axes>"
      ]
     },
     "metadata": {
      "needs_background": "light"
     },
     "output_type": "display_data"
    }
   ],
   "source": [
    "i=6\n",
    "time,time_high,time_low,flux,flux_high,flux_low =get_individual_curves_log(folder+GRBs[i]+filename)\n",
    "flux_err = flux_high + flux_low\n",
    "time_err = time_high + time_low\n",
    "\n",
    "# fit_index = 5\n",
    "# params=lm.Parameters()\n",
    "# params.add(\"t_break\", min = 100, max = 300, value = 173)\n",
    "# params.add(\"alpha_1\", min = -5.0, max = 2.0, value = -0.5)\n",
    "# params.add(\"alpha_2\", min = 3.0, max = 9.0, value = 6)\n",
    "# params.add(\"amplitude\", min = 1e-10, max = 1e-9, value = 4.5e-10)\n",
    "\n",
    "# minner = lm.Minimizer(cost_func, params, fcn_args=(time[fit_index:], flux[fit_index:], time_err[fit_index:], flux_err[fit_index:]),fcn_kws={\"broken\":True})\n",
    "# result = minner.minimize(method=\"least_squares\")\n",
    "\n",
    "# bfit = result.params\n",
    "# tb = bfit[\"t_break\"].value\n",
    "# alp1 = bfit[\"alpha_1\"].value\n",
    "# alp2 = bfit[\"alpha_2\"].value\n",
    "# amp = bfit[\"amplitude\"].value\n",
    "\n",
    "# lm.printfuncs.report_fit(result)\n",
    "\n",
    "x1=np.linspace(150,500,30)\n",
    "fig=plt.figure(figsize=(5.0,5.0), dpi=100)\n",
    "plt.errorbar(time, flux, fmt='.', xerr=[time_low,time_high],yerr=[flux_low,flux_high])\n",
    "# plt.plot(x1,broken_power_law(x1,tb, alp1, alp2, amp),label ='best fit')\n",
    "plt.yscale(\"log\")\n",
    "plt.legend()\n",
    "plt.show()"
   ]
  },
  {
   "cell_type": "code",
   "execution_count": null,
   "metadata": {},
   "outputs": [],
   "source": [
    "res_refined = lm.minimize(cost_func, method='emcee', burn=1000, steps=50000,\n",
    "                            params=bfit, is_weighted=True, args=(time[fit_index:], flux[fit_index:], time_err[fit_index:], flux_err[fit_index:]),\n",
    "                            nwalkers = 100)\n"
   ]
  },
  {
   "cell_type": "code",
   "execution_count": null,
   "metadata": {},
   "outputs": [],
   "source": [
    "emcee_plot = corner.corner(res_refined.flatchain, labels=res_refined.var_names,\n",
    "                           truths=list((res_refined.params.valuesdict().values())))\n",
    "\n"
   ]
  },
  {
   "cell_type": "code",
   "execution_count": 12,
   "metadata": {},
   "outputs": [
    {
     "ename": "NameError",
     "evalue": "name 'res_refined' is not defined",
     "output_type": "error",
     "traceback": [
      "\u001b[0;31m---------------------------------------------------------------------------\u001b[0m",
      "\u001b[0;31mNameError\u001b[0m                                 Traceback (most recent call last)",
      "\u001b[1;32m/Users/kruthik/Desktop/FXT_internship/code/grb_analysis/GRB_LC_6.ipynb Cell 9\u001b[0m in \u001b[0;36m<cell line: 2>\u001b[0;34m()\u001b[0m\n\u001b[1;32m      <a href='vscode-notebook-cell:/Users/kruthik/Desktop/FXT_internship/code/grb_analysis/GRB_LC_6.ipynb#X25sZmlsZQ%3D%3D?line=0'>1</a>\u001b[0m df \u001b[39m=\u001b[39m pd\u001b[39m.\u001b[39mread_csv(\u001b[39m\"\u001b[39m\u001b[39mgrb_bpl.csv\u001b[39m\u001b[39m\"\u001b[39m)\n\u001b[0;32m----> <a href='vscode-notebook-cell:/Users/kruthik/Desktop/FXT_internship/code/grb_analysis/GRB_LC_6.ipynb#X25sZmlsZQ%3D%3D?line=1'>2</a>\u001b[0m pd_row \u001b[39m=\u001b[39m res_refined\u001b[39m.\u001b[39mparams\u001b[39m.\u001b[39mvaluesdict()\n\u001b[1;32m      <a href='vscode-notebook-cell:/Users/kruthik/Desktop/FXT_internship/code/grb_analysis/GRB_LC_6.ipynb#X25sZmlsZQ%3D%3D?line=2'>3</a>\u001b[0m pd_row[\u001b[39m\"\u001b[39m\u001b[39mGRB Name\u001b[39m\u001b[39m\"\u001b[39m] \u001b[39m=\u001b[39m GRBs[i]\n\u001b[1;32m      <a href='vscode-notebook-cell:/Users/kruthik/Desktop/FXT_internship/code/grb_analysis/GRB_LC_6.ipynb#X25sZmlsZQ%3D%3D?line=3'>4</a>\u001b[0m pd_row[\u001b[39m\"\u001b[39m\u001b[39mGRB Index\u001b[39m\u001b[39m\"\u001b[39m] \u001b[39m=\u001b[39m i\n",
      "\u001b[0;31mNameError\u001b[0m: name 'res_refined' is not defined"
     ]
    }
   ],
   "source": [
    "df = pd.read_csv(\"grb_bpl.csv\")\n",
    "pd_row = res_refined.params.valuesdict()\n",
    "pd_row[\"GRB Name\"] = GRBs[i]\n",
    "pd_row[\"GRB Index\"] = i\n",
    "df.iloc[i] = pd_row\n",
    "df.to_csv(\"grb_bpl.csv\",index=False)\n",
    "\n",
    "df2 = pd.read_csv(\"grb_initial_pl.csv\")\n",
    "pd_row2 = res_refined_ini.params.valuesdict()\n",
    "pd_row2[\"GRB Name\"] = GRBs[i]\n",
    "pd_row2[\"GRB Index\"] = i\n",
    "df2.iloc[i] = pd_row2\n",
    "df2.to_csv(\"grb_initial_pl.csv\",index=False)"
   ]
  }
 ],
 "metadata": {
  "kernelspec": {
   "display_name": "Python 3.10.4 ('fxt')",
   "language": "python",
   "name": "python3"
  },
  "language_info": {
   "codemirror_mode": {
    "name": "ipython",
    "version": 3
   },
   "file_extension": ".py",
   "mimetype": "text/x-python",
   "name": "python",
   "nbconvert_exporter": "python",
   "pygments_lexer": "ipython3"
  },
  "orig_nbformat": 4,
  "vscode": {
   "interpreter": {
    "hash": "ee9360b78b02b741d638689843875efa9d7e2736bae4e01465bbd9b89d1b8006"
   }
  }
 },
 "nbformat": 4,
 "nbformat_minor": 2
}
