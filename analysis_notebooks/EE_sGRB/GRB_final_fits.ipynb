{
 "cells": [
  {
   "cell_type": "code",
   "execution_count": 1,
   "metadata": {},
   "outputs": [],
   "source": [
    "import numpy as np\n",
    "import matplotlib.pyplot as plt\n",
    "from matplotlib import ticker\n",
    "import lmfit as lm\n",
    "import scipy as sp\n",
    "import corner\n",
    "import emcee\n",
    "import pandas as pd\n",
    "from lc_lmfit import *"
   ]
  },
  {
   "cell_type": "code",
   "execution_count": 2,
   "metadata": {},
   "outputs": [],
   "source": [
    "folder='afterglow_data/'\n",
    "filename='_xray_flux.txt'\n",
    "\n",
    "GRBs=['050724', '051227', '060614', '061006', '061210', '070714B', '071227', '080123', '080503', '111121A', '150424A', '211211A', '211227A']"
   ]
  },
  {
   "cell_type": "code",
   "execution_count": 6,
   "metadata": {},
   "outputs": [],
   "source": [
    "def make_subplot(i, n, best_fit, fig):\n",
    "    ax1 = fig.add_subplot(5,3, i+1)\n",
    "    time,time_high,time_low,flux,flux_high,flux_low =get_individual_curves_log(folder+GRBs[i]+filename)\n",
    "    flux_err = flux_high + flux_low\n",
    "    time_err = time_high + time_low\n",
    "\n",
    "    x = np.geomspace(time[0],time[-1],100)\n",
    "    tbreaks = [best_fit[\"tb\"+str(i)] for i in range(n-1)]\n",
    "    alphas = [best_fit[\"alpha_\"+str(i)] for i in range(n)]\n",
    "    y = nbroken_law(x,tbreaks, alphas, best_fit[\"amplitude\"])\n",
    "\n",
    "\n",
    "    ax1.errorbar(time, flux, fmt='.', xerr=[time_low,time_high],yerr=[flux_low,flux_high])\n",
    "    ax1.loglog(x, y,label ='best fit', zorder=10)\n",
    "    plt.gca().set_xscale(\"log\")\n",
    "    plt.gca().set_yscale(\"log\")\n",
    "    ax1.set_xlabel('$\\mathrm{Time(s)}$',fontsize=12.)\n",
    "    ax1.set_ylabel('$\\mathrm{Flux}$',fontsize=12.)\n",
    "    ax1.set_title(GRBs[i],fontsize=10)"
   ]
  },
  {
   "cell_type": "code",
   "execution_count": 7,
   "metadata": {},
   "outputs": [
    {
     "data": {
      "image/png": "[encoded data removed]",
      "text/plain": [
       "<Figure size 800x800 with 2 Axes>"
      ]
     },
     "metadata": {},
     "output_type": "display_data"
    }
   ],
   "source": [
    "fig=plt.figure(figsize=(8.0,8.0), dpi=100)\n",
    "fig.patch.set_facecolor('white')\n",
    "\n",
    "##########################################################################################\n",
    "i=0\n",
    "n=5\n",
    "\n",
    "best_fit = {'tb0': 264.6688951780947,\n",
    "'tb1': 489.50587245207925,\n",
    "'tb2': 11995.931242147362,\n",
    "'tb3': 58695.33461032089,\n",
    "'alpha_0': 2.0748694947703084,\n",
    "'alpha_1': 7.474499205260588,\n",
    "'alpha_2': 1.0551216222069375,\n",
    "'alpha_3': -1.2820358062489206,\n",
    "'alpha_4': 3.0808200067101525,\n",
    "'amplitude': 8.245143705801812e-10}\n",
    "\n",
    "make_subplot(i, n, best_fit, fig)\n",
    "\n",
    "\n",
    "##########################################################################################\n",
    "i=1\n",
    "n=5\n",
    "\n",
    "best_fit = {'tb0': 264.6688951780947,\n",
    "'tb1': 489.50587245207925,\n",
    "'tb2': 11995.931242147362,\n",
    "'tb3': 58695.33461032089,\n",
    "'alpha_0': 2.0748694947703084,\n",
    "'alpha_1': 7.474499205260588,\n",
    "'alpha_2': 1.0551216222069375,\n",
    "'alpha_3': -1.2820358062489206,\n",
    "'alpha_4': 3.0808200067101525,\n",
    "'amplitude': 8.245143705801812e-10}\n",
    "\n",
    "make_subplot(i, n, best_fit, fig)\n",
    "\n",
    "\n"
   ]
  }
 ],
 "metadata": {
  "kernelspec": {
   "display_name": "fxt",
   "language": "python",
   "name": "python3"
  },
  "language_info": {
   "codemirror_mode": {
    "name": "ipython",
    "version": 3
   },
   "file_extension": ".py",
   "mimetype": "text/x-python",
   "name": "python",
   "nbconvert_exporter": "python",
   "pygments_lexer": "ipython3",
   "version": "3.11.8"
  },
  "orig_nbformat": 4
 },
 "nbformat": 4,
 "nbformat_minor": 2
}
